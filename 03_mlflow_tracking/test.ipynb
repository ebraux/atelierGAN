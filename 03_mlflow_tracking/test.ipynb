{
 "cells": [
  {
   "cell_type": "code",
   "execution_count": 2,
   "id": "074f7ddc",
   "metadata": {},
   "outputs": [
    {
     "name": "stdout",
     "output_type": "stream",
     "text": [
      "[-0.8671677]\n"
     ]
    }
   ],
   "source": [
    "import numpy as np\n",
    "import mlflow\n",
    "from mlflow.models import infer_signature\n",
    "import torch\n",
    "from torch import nn\n",
    "\n",
    "\n",
    "net = nn.Linear(6, 1)\n",
    "loss_function = nn.L1Loss()\n",
    "optimizer = torch.optim.Adam(net.parameters(), lr=1e-4)\n",
    "\n",
    "X = torch.randn(6)\n",
    "y = torch.randn(1)\n",
    "\n",
    "epochs = 5\n",
    "for epoch in range(epochs):\n",
    "    optimizer.zero_grad()\n",
    "    outputs = net(X)\n",
    "\n",
    "    loss = loss_function(outputs, y)\n",
    "    loss.backward()\n",
    "\n",
    "    optimizer.step()\n",
    "\n",
    "with mlflow.start_run(run_name='test-model_2') as run:\n",
    "    signature = infer_signature(X.numpy(), net(X).detach().numpy())\n",
    "    model_info = mlflow.pytorch.log_model(net, \"model\", signature=signature)\n",
    "\n",
    "pytorch_pyfunc = mlflow.pyfunc.load_model(model_uri=model_info.model_uri)\n",
    "\n",
    "predictions = pytorch_pyfunc.predict(torch.randn(6).numpy())\n",
    "print(predictions)"
   ]
  }
 ],
 "metadata": {
  "kernelspec": {
   "display_name": ".venv",
   "language": "python",
   "name": "python3"
  },
  "language_info": {
   "codemirror_mode": {
    "name": "ipython",
    "version": 3
   },
   "file_extension": ".py",
   "mimetype": "text/x-python",
   "name": "python",
   "nbconvert_exporter": "python",
   "pygments_lexer": "ipython3",
   "version": "3.10.12"
  }
 },
 "nbformat": 4,
 "nbformat_minor": 5
}
